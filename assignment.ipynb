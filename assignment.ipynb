{
 "cells": [
  {
   "metadata": {},
   "cell_type": "markdown",
   "source": [
    "# RNA-Seq Data Classification for Disease Prediction\n",
    "\n",
    "## 0. Introduction\n",
    "\n",
    "In this notebook, we aim to build a multiclass classifier to predict whether an individual is healthy, has rheumatoid arthritis (RA), or has systemic lupus erythematosus (SLE) based on RNA-seq data. We will also identify key genes contributing to each condition."
   ],
   "id": "6473a9bdfedd5303"
  },
  {
   "metadata": {},
   "cell_type": "markdown",
   "source": [
    "## 1. Data Loading and Initial Setup\n",
    "\n",
    "First, we'll load the RNA-seq datasets for RA, SLE, and healthy controls. We'll also display the shapes of the datasets to understand their dimensions."
   ],
   "id": "47b5c9e05e10c593"
  },
  {
   "metadata": {
    "ExecuteTime": {
     "end_time": "2024-10-24T16:47:12.845826Z",
     "start_time": "2024-10-24T16:47:12.831828Z"
    }
   },
   "cell_type": "code",
   "source": [
    "# Import the required libraries\n",
    "import matplotlib.pyplot as plt\n",
    "import numpy as np\n",
    "import pandas as pd\n",
    "import seaborn as sns\n",
    "\n",
    "import warnings\n",
    "warnings.filterwarnings('ignore')"
   ],
   "id": "ce4a3d766492d61c",
   "outputs": [],
   "execution_count": 1
  },
  {
   "metadata": {
    "ExecuteTime": {
     "end_time": "2024-10-24T16:47:57.764993Z",
     "start_time": "2024-10-24T16:47:12.846846Z"
    }
   },
   "cell_type": "code",
   "source": [
    "# Load the datasets for RA\n",
    "ra_train = pd.read_csv('dataset/ra_train_data.tsv', sep='\\t', index_col=0)\n",
    "ra_test = pd.read_csv('dataset/ra_test_data.tsv', sep='\\t', index_col=0)"
   ],
   "id": "f150ab0976bba399",
   "outputs": [],
   "execution_count": 2
  },
  {
   "metadata": {
    "ExecuteTime": {
     "end_time": "2024-10-24T16:48:42.240357Z",
     "start_time": "2024-10-24T16:47:57.766790Z"
    }
   },
   "cell_type": "code",
   "source": [
    "# Load the datasets for SLE\n",
    "sle_train = pd.read_csv('dataset/sle_train_data.tsv', sep='\\t', index_col=0)\n",
    "sle_test = pd.read_csv('dataset/sle_test_data.tsv', sep='\\t', index_col=0)"
   ],
   "id": "76ccd7e63d7774f2",
   "outputs": [],
   "execution_count": 3
  },
  {
   "metadata": {
    "ExecuteTime": {
     "end_time": "2024-10-24T16:48:46.041351Z",
     "start_time": "2024-10-24T16:48:42.241341Z"
    }
   },
   "cell_type": "code",
   "source": [
    "# Load the datasets for healthy controls\n",
    "healthy_train = pd.read_csv('dataset/healthy_train_data.tsv', sep='\\t', index_col=0)\n",
    "healthy_test = pd.read_csv('dataset/healthy_test_data.tsv', sep='\\t', index_col=0)"
   ],
   "id": "a4455bd93c6dd23f",
   "outputs": [],
   "execution_count": 4
  },
  {
   "metadata": {
    "ExecuteTime": {
     "end_time": "2024-10-24T16:48:46.072434Z",
     "start_time": "2024-10-24T16:48:46.046412Z"
    }
   },
   "cell_type": "code",
   "source": [
    "# Display the shapes of the datasets\n",
    "print(\"RA Train Shape:\", ra_train.shape)\n",
    "print(\"RA Test Shape:\", ra_test.shape)\n",
    "print(\"SLE Train Shape:\", sle_train.shape)\n",
    "print(\"SLE Test Shape:\", sle_test.shape)\n",
    "print(\"Healthy Train Shape:\", healthy_train.shape)\n",
    "print(\"Healthy Test Shape:\", healthy_test.shape)"
   ],
   "id": "1c9b4ee069da2b6b",
   "outputs": [
    {
     "name": "stdout",
     "output_type": "stream",
     "text": [
      "RA Train Shape: (1587, 37691)\n",
      "RA Test Shape: (330, 37691)\n",
      "SLE Train Shape: (1332, 37691)\n",
      "SLE Test Shape: (465, 37691)\n",
      "Healthy Train Shape: (302, 24403)\n",
      "Healthy Test Shape: (100, 24403)\n"
     ]
    }
   ],
   "execution_count": 5
  },
  {
   "metadata": {
    "ExecuteTime": {
     "end_time": "2024-10-24T16:48:46.119459Z",
     "start_time": "2024-10-24T16:48:46.073426Z"
    }
   },
   "cell_type": "code",
   "source": [
    "# Preview the first few rows of the RA training data\n",
    "ra_train.head(5)"
   ],
   "id": "d47d060b0728ae33",
   "outputs": [
    {
     "data": {
      "text/plain": [
       "                      DDX11L1  WASH7P  MIR6859-1  MIR1302-2HG  MIR1302-2  \\\n",
       "GSE183154_GSM5552159      0.0  18.960     19.390          0.0        0.0   \n",
       "GSE183154_GSM5552160      0.0   9.083      6.972          0.0        0.0   \n",
       "GSE183154_GSM5552161      0.0  26.340     36.230          0.0        0.0   \n",
       "GSE183154_GSM5552162      0.0  10.020      5.382          0.0        0.0   \n",
       "GSE135635_GSM4024030      0.0  19.690      6.388          0.0        0.0   \n",
       "\n",
       "                      FAM138A  OR4F5  WASH9P  LOC729737  DDX11L17  ...  \\\n",
       "GSE183154_GSM5552159      0.0    0.0   0.000      3.624       0.0  ...   \n",
       "GSE183154_GSM5552160      0.0    0.0   0.000      1.670       0.0  ...   \n",
       "GSE183154_GSM5552161      0.0    0.0   1.299      6.757       0.0  ...   \n",
       "GSE183154_GSM5552162      0.0    0.0   0.000      1.538       0.0  ...   \n",
       "GSE135635_GSM4024030      0.0    0.0   0.000      4.555       0.0  ...   \n",
       "\n",
       "                         ND4    TRNH   TRNS2   TRNL2     ND5     ND6    TRNE  \\\n",
       "GSE183154_GSM5552159  4600.0  240.20  264.40  201.10  1924.0  2050.0  1123.0   \n",
       "GSE183154_GSM5552160  5955.0  353.10  384.40  289.70  2588.0  2500.0  1317.0   \n",
       "GSE183154_GSM5552161  3136.0  120.30  117.00   83.54  1519.0  1554.0   852.5   \n",
       "GSE183154_GSM5552162  4703.0  265.60  284.80  223.80  2081.0  2112.0  1092.0   \n",
       "GSE135635_GSM4024030  2123.0   40.29   47.12   54.45  1114.0  1517.0   905.3   \n",
       "\n",
       "                        CYTB    TRNT   TRNP  \n",
       "GSE183154_GSM5552159  1648.0  149.00  828.9  \n",
       "GSE183154_GSM5552160  2436.0  270.60  940.5  \n",
       "GSE183154_GSM5552161  1311.0   67.29  577.5  \n",
       "GSE183154_GSM5552162  1793.0  193.20  804.6  \n",
       "GSE135635_GSM4024030  1040.0  140.20  685.4  \n",
       "\n",
       "[5 rows x 37691 columns]"
      ],
      "text/html": [
       "<div>\n",
       "<style scoped>\n",
       "    .dataframe tbody tr th:only-of-type {\n",
       "        vertical-align: middle;\n",
       "    }\n",
       "\n",
       "    .dataframe tbody tr th {\n",
       "        vertical-align: top;\n",
       "    }\n",
       "\n",
       "    .dataframe thead th {\n",
       "        text-align: right;\n",
       "    }\n",
       "</style>\n",
       "<table border=\"1\" class=\"dataframe\">\n",
       "  <thead>\n",
       "    <tr style=\"text-align: right;\">\n",
       "      <th></th>\n",
       "      <th>DDX11L1</th>\n",
       "      <th>WASH7P</th>\n",
       "      <th>MIR6859-1</th>\n",
       "      <th>MIR1302-2HG</th>\n",
       "      <th>MIR1302-2</th>\n",
       "      <th>FAM138A</th>\n",
       "      <th>OR4F5</th>\n",
       "      <th>WASH9P</th>\n",
       "      <th>LOC729737</th>\n",
       "      <th>DDX11L17</th>\n",
       "      <th>...</th>\n",
       "      <th>ND4</th>\n",
       "      <th>TRNH</th>\n",
       "      <th>TRNS2</th>\n",
       "      <th>TRNL2</th>\n",
       "      <th>ND5</th>\n",
       "      <th>ND6</th>\n",
       "      <th>TRNE</th>\n",
       "      <th>CYTB</th>\n",
       "      <th>TRNT</th>\n",
       "      <th>TRNP</th>\n",
       "    </tr>\n",
       "  </thead>\n",
       "  <tbody>\n",
       "    <tr>\n",
       "      <th>GSE183154_GSM5552159</th>\n",
       "      <td>0.0</td>\n",
       "      <td>18.960</td>\n",
       "      <td>19.390</td>\n",
       "      <td>0.0</td>\n",
       "      <td>0.0</td>\n",
       "      <td>0.0</td>\n",
       "      <td>0.0</td>\n",
       "      <td>0.000</td>\n",
       "      <td>3.624</td>\n",
       "      <td>0.0</td>\n",
       "      <td>...</td>\n",
       "      <td>4600.0</td>\n",
       "      <td>240.20</td>\n",
       "      <td>264.40</td>\n",
       "      <td>201.10</td>\n",
       "      <td>1924.0</td>\n",
       "      <td>2050.0</td>\n",
       "      <td>1123.0</td>\n",
       "      <td>1648.0</td>\n",
       "      <td>149.00</td>\n",
       "      <td>828.9</td>\n",
       "    </tr>\n",
       "    <tr>\n",
       "      <th>GSE183154_GSM5552160</th>\n",
       "      <td>0.0</td>\n",
       "      <td>9.083</td>\n",
       "      <td>6.972</td>\n",
       "      <td>0.0</td>\n",
       "      <td>0.0</td>\n",
       "      <td>0.0</td>\n",
       "      <td>0.0</td>\n",
       "      <td>0.000</td>\n",
       "      <td>1.670</td>\n",
       "      <td>0.0</td>\n",
       "      <td>...</td>\n",
       "      <td>5955.0</td>\n",
       "      <td>353.10</td>\n",
       "      <td>384.40</td>\n",
       "      <td>289.70</td>\n",
       "      <td>2588.0</td>\n",
       "      <td>2500.0</td>\n",
       "      <td>1317.0</td>\n",
       "      <td>2436.0</td>\n",
       "      <td>270.60</td>\n",
       "      <td>940.5</td>\n",
       "    </tr>\n",
       "    <tr>\n",
       "      <th>GSE183154_GSM5552161</th>\n",
       "      <td>0.0</td>\n",
       "      <td>26.340</td>\n",
       "      <td>36.230</td>\n",
       "      <td>0.0</td>\n",
       "      <td>0.0</td>\n",
       "      <td>0.0</td>\n",
       "      <td>0.0</td>\n",
       "      <td>1.299</td>\n",
       "      <td>6.757</td>\n",
       "      <td>0.0</td>\n",
       "      <td>...</td>\n",
       "      <td>3136.0</td>\n",
       "      <td>120.30</td>\n",
       "      <td>117.00</td>\n",
       "      <td>83.54</td>\n",
       "      <td>1519.0</td>\n",
       "      <td>1554.0</td>\n",
       "      <td>852.5</td>\n",
       "      <td>1311.0</td>\n",
       "      <td>67.29</td>\n",
       "      <td>577.5</td>\n",
       "    </tr>\n",
       "    <tr>\n",
       "      <th>GSE183154_GSM5552162</th>\n",
       "      <td>0.0</td>\n",
       "      <td>10.020</td>\n",
       "      <td>5.382</td>\n",
       "      <td>0.0</td>\n",
       "      <td>0.0</td>\n",
       "      <td>0.0</td>\n",
       "      <td>0.0</td>\n",
       "      <td>0.000</td>\n",
       "      <td>1.538</td>\n",
       "      <td>0.0</td>\n",
       "      <td>...</td>\n",
       "      <td>4703.0</td>\n",
       "      <td>265.60</td>\n",
       "      <td>284.80</td>\n",
       "      <td>223.80</td>\n",
       "      <td>2081.0</td>\n",
       "      <td>2112.0</td>\n",
       "      <td>1092.0</td>\n",
       "      <td>1793.0</td>\n",
       "      <td>193.20</td>\n",
       "      <td>804.6</td>\n",
       "    </tr>\n",
       "    <tr>\n",
       "      <th>GSE135635_GSM4024030</th>\n",
       "      <td>0.0</td>\n",
       "      <td>19.690</td>\n",
       "      <td>6.388</td>\n",
       "      <td>0.0</td>\n",
       "      <td>0.0</td>\n",
       "      <td>0.0</td>\n",
       "      <td>0.0</td>\n",
       "      <td>0.000</td>\n",
       "      <td>4.555</td>\n",
       "      <td>0.0</td>\n",
       "      <td>...</td>\n",
       "      <td>2123.0</td>\n",
       "      <td>40.29</td>\n",
       "      <td>47.12</td>\n",
       "      <td>54.45</td>\n",
       "      <td>1114.0</td>\n",
       "      <td>1517.0</td>\n",
       "      <td>905.3</td>\n",
       "      <td>1040.0</td>\n",
       "      <td>140.20</td>\n",
       "      <td>685.4</td>\n",
       "    </tr>\n",
       "  </tbody>\n",
       "</table>\n",
       "<p>5 rows × 37691 columns</p>\n",
       "</div>"
      ]
     },
     "execution_count": 6,
     "metadata": {},
     "output_type": "execute_result"
    }
   ],
   "execution_count": 6
  },
  {
   "metadata": {
    "ExecuteTime": {
     "end_time": "2024-10-24T16:48:46.151423Z",
     "start_time": "2024-10-24T16:48:46.121424Z"
    }
   },
   "cell_type": "code",
   "source": [
    "# Preview the first few rows of the SLE training data\n",
    "sle_train.head(5)"
   ],
   "id": "1c7e26c050f68505",
   "outputs": [
    {
     "data": {
      "text/plain": [
       "                     DDX11L1  WASH7P  MIR6859-1  MIR1302-2HG  MIR1302-2  \\\n",
       "GSE63755_GSM1556699      0.0   5.085      4.574          0.0        0.0   \n",
       "GSE63755_GSM1556700      0.0   5.090      4.004          0.0        0.0   \n",
       "GSE63755_GSM1556701      0.0   7.666      4.897          0.0        0.0   \n",
       "GSE63755_GSM1556702      0.0   4.574      3.967          0.0        0.0   \n",
       "GSE63755_GSM1556703      0.0   6.321      4.730          0.0        0.0   \n",
       "\n",
       "                     FAM138A  OR4F5  WASH9P  LOC729737  DDX11L17  ...     ND4  \\\n",
       "GSE63755_GSM1556699      0.0    0.0     0.0        0.0       0.0  ...  2467.0   \n",
       "GSE63755_GSM1556700      0.0    0.0     0.0        0.0       0.0  ...  3496.0   \n",
       "GSE63755_GSM1556701      0.0    0.0     0.0        0.0       0.0  ...  1271.0   \n",
       "GSE63755_GSM1556702      0.0    0.0     0.0        0.0       0.0  ...  3886.0   \n",
       "GSE63755_GSM1556703      0.0    0.0     0.0        0.0       0.0  ...  3344.0   \n",
       "\n",
       "                      TRNH  TRNS2  TRNL2     ND5     ND6   TRNE    CYTB  \\\n",
       "GSE63755_GSM1556699  27.74  38.52  31.00  1016.0  1015.0  606.1  1110.0   \n",
       "GSE63755_GSM1556700  30.16  42.52  29.31  1389.0  1458.0  777.6  1715.0   \n",
       "GSE63755_GSM1556701  33.78  43.61  29.84   524.9   599.5  280.3   808.0   \n",
       "GSE63755_GSM1556702  51.72  68.58  49.68  1703.0  1660.0  946.3  1823.0   \n",
       "GSE63755_GSM1556703  40.86  49.07  35.98  1244.0  1258.0  700.1  1466.0   \n",
       "\n",
       "                       TRNT    TRNP  \n",
       "GSE63755_GSM1556699   64.89  120.30  \n",
       "GSE63755_GSM1556700   83.09  135.60  \n",
       "GSE63755_GSM1556701   17.89   24.93  \n",
       "GSE63755_GSM1556702  109.70  168.40  \n",
       "GSE63755_GSM1556703   92.31  160.60  \n",
       "\n",
       "[5 rows x 37691 columns]"
      ],
      "text/html": [
       "<div>\n",
       "<style scoped>\n",
       "    .dataframe tbody tr th:only-of-type {\n",
       "        vertical-align: middle;\n",
       "    }\n",
       "\n",
       "    .dataframe tbody tr th {\n",
       "        vertical-align: top;\n",
       "    }\n",
       "\n",
       "    .dataframe thead th {\n",
       "        text-align: right;\n",
       "    }\n",
       "</style>\n",
       "<table border=\"1\" class=\"dataframe\">\n",
       "  <thead>\n",
       "    <tr style=\"text-align: right;\">\n",
       "      <th></th>\n",
       "      <th>DDX11L1</th>\n",
       "      <th>WASH7P</th>\n",
       "      <th>MIR6859-1</th>\n",
       "      <th>MIR1302-2HG</th>\n",
       "      <th>MIR1302-2</th>\n",
       "      <th>FAM138A</th>\n",
       "      <th>OR4F5</th>\n",
       "      <th>WASH9P</th>\n",
       "      <th>LOC729737</th>\n",
       "      <th>DDX11L17</th>\n",
       "      <th>...</th>\n",
       "      <th>ND4</th>\n",
       "      <th>TRNH</th>\n",
       "      <th>TRNS2</th>\n",
       "      <th>TRNL2</th>\n",
       "      <th>ND5</th>\n",
       "      <th>ND6</th>\n",
       "      <th>TRNE</th>\n",
       "      <th>CYTB</th>\n",
       "      <th>TRNT</th>\n",
       "      <th>TRNP</th>\n",
       "    </tr>\n",
       "  </thead>\n",
       "  <tbody>\n",
       "    <tr>\n",
       "      <th>GSE63755_GSM1556699</th>\n",
       "      <td>0.0</td>\n",
       "      <td>5.085</td>\n",
       "      <td>4.574</td>\n",
       "      <td>0.0</td>\n",
       "      <td>0.0</td>\n",
       "      <td>0.0</td>\n",
       "      <td>0.0</td>\n",
       "      <td>0.0</td>\n",
       "      <td>0.0</td>\n",
       "      <td>0.0</td>\n",
       "      <td>...</td>\n",
       "      <td>2467.0</td>\n",
       "      <td>27.74</td>\n",
       "      <td>38.52</td>\n",
       "      <td>31.00</td>\n",
       "      <td>1016.0</td>\n",
       "      <td>1015.0</td>\n",
       "      <td>606.1</td>\n",
       "      <td>1110.0</td>\n",
       "      <td>64.89</td>\n",
       "      <td>120.30</td>\n",
       "    </tr>\n",
       "    <tr>\n",
       "      <th>GSE63755_GSM1556700</th>\n",
       "      <td>0.0</td>\n",
       "      <td>5.090</td>\n",
       "      <td>4.004</td>\n",
       "      <td>0.0</td>\n",
       "      <td>0.0</td>\n",
       "      <td>0.0</td>\n",
       "      <td>0.0</td>\n",
       "      <td>0.0</td>\n",
       "      <td>0.0</td>\n",
       "      <td>0.0</td>\n",
       "      <td>...</td>\n",
       "      <td>3496.0</td>\n",
       "      <td>30.16</td>\n",
       "      <td>42.52</td>\n",
       "      <td>29.31</td>\n",
       "      <td>1389.0</td>\n",
       "      <td>1458.0</td>\n",
       "      <td>777.6</td>\n",
       "      <td>1715.0</td>\n",
       "      <td>83.09</td>\n",
       "      <td>135.60</td>\n",
       "    </tr>\n",
       "    <tr>\n",
       "      <th>GSE63755_GSM1556701</th>\n",
       "      <td>0.0</td>\n",
       "      <td>7.666</td>\n",
       "      <td>4.897</td>\n",
       "      <td>0.0</td>\n",
       "      <td>0.0</td>\n",
       "      <td>0.0</td>\n",
       "      <td>0.0</td>\n",
       "      <td>0.0</td>\n",
       "      <td>0.0</td>\n",
       "      <td>0.0</td>\n",
       "      <td>...</td>\n",
       "      <td>1271.0</td>\n",
       "      <td>33.78</td>\n",
       "      <td>43.61</td>\n",
       "      <td>29.84</td>\n",
       "      <td>524.9</td>\n",
       "      <td>599.5</td>\n",
       "      <td>280.3</td>\n",
       "      <td>808.0</td>\n",
       "      <td>17.89</td>\n",
       "      <td>24.93</td>\n",
       "    </tr>\n",
       "    <tr>\n",
       "      <th>GSE63755_GSM1556702</th>\n",
       "      <td>0.0</td>\n",
       "      <td>4.574</td>\n",
       "      <td>3.967</td>\n",
       "      <td>0.0</td>\n",
       "      <td>0.0</td>\n",
       "      <td>0.0</td>\n",
       "      <td>0.0</td>\n",
       "      <td>0.0</td>\n",
       "      <td>0.0</td>\n",
       "      <td>0.0</td>\n",
       "      <td>...</td>\n",
       "      <td>3886.0</td>\n",
       "      <td>51.72</td>\n",
       "      <td>68.58</td>\n",
       "      <td>49.68</td>\n",
       "      <td>1703.0</td>\n",
       "      <td>1660.0</td>\n",
       "      <td>946.3</td>\n",
       "      <td>1823.0</td>\n",
       "      <td>109.70</td>\n",
       "      <td>168.40</td>\n",
       "    </tr>\n",
       "    <tr>\n",
       "      <th>GSE63755_GSM1556703</th>\n",
       "      <td>0.0</td>\n",
       "      <td>6.321</td>\n",
       "      <td>4.730</td>\n",
       "      <td>0.0</td>\n",
       "      <td>0.0</td>\n",
       "      <td>0.0</td>\n",
       "      <td>0.0</td>\n",
       "      <td>0.0</td>\n",
       "      <td>0.0</td>\n",
       "      <td>0.0</td>\n",
       "      <td>...</td>\n",
       "      <td>3344.0</td>\n",
       "      <td>40.86</td>\n",
       "      <td>49.07</td>\n",
       "      <td>35.98</td>\n",
       "      <td>1244.0</td>\n",
       "      <td>1258.0</td>\n",
       "      <td>700.1</td>\n",
       "      <td>1466.0</td>\n",
       "      <td>92.31</td>\n",
       "      <td>160.60</td>\n",
       "    </tr>\n",
       "  </tbody>\n",
       "</table>\n",
       "<p>5 rows × 37691 columns</p>\n",
       "</div>"
      ]
     },
     "execution_count": 7,
     "metadata": {},
     "output_type": "execute_result"
    }
   ],
   "execution_count": 7
  },
  {
   "metadata": {
    "ExecuteTime": {
     "end_time": "2024-10-24T16:48:46.197742Z",
     "start_time": "2024-10-24T16:48:46.152424Z"
    }
   },
   "cell_type": "code",
   "source": [
    "# Preview the first few rows of the healthy training data\n",
    "healthy_train.head(5)"
   ],
   "id": "b106fb06b8caf0ab",
   "outputs": [
    {
     "data": {
      "text/plain": [
       "                                         A1BG  NAT2       ADA  CDH2     AKT3  \\\n",
       "Whole blood_GTEX-111YS-0006-SM-5NQBE  0.00000   0.0   3.88814   0.0  0.00000   \n",
       "Whole blood_GTEX-1122O-0005-SM-5O99J  0.00000   0.0   1.65673   0.0  0.00000   \n",
       "Whole blood_GTEX-1128S-0005-SM-5P9HI  0.00000   0.0  16.21627   0.0  3.32589   \n",
       "Whole blood_GTEX-113IC-0006-SM-5NQ9C  0.00000   0.0  30.64359   0.0  2.97533   \n",
       "Whole blood_GTEX-11DXW-0006-SM-5NQ7Y  1.53009   0.0  20.60155   0.0  1.65279   \n",
       "\n",
       "                                      GAGE12F  POU5F1P5  ZBTB11-AS1     MED6  \\\n",
       "Whole blood_GTEX-111YS-0006-SM-5NQBE      0.0       0.0         0.0  4.92819   \n",
       "Whole blood_GTEX-1122O-0005-SM-5O99J      0.0       0.0         0.0  3.89626   \n",
       "Whole blood_GTEX-1128S-0005-SM-5P9HI      0.0       0.0         0.0  2.62014   \n",
       "Whole blood_GTEX-113IC-0006-SM-5NQ9C      0.0       0.0         0.0  8.18075   \n",
       "Whole blood_GTEX-11DXW-0006-SM-5NQ7Y      0.0       0.0         0.0  4.07246   \n",
       "\n",
       "                                      NR2E3  ...   HNRNPDL    DMTF1    PPP4R1  \\\n",
       "Whole blood_GTEX-111YS-0006-SM-5NQBE    0.0  ...  23.24507  2.13643  34.75098   \n",
       "Whole blood_GTEX-1122O-0005-SM-5O99J    0.0  ...  21.88482  3.95634  71.26230   \n",
       "Whole blood_GTEX-1128S-0005-SM-5P9HI    0.0  ...  54.36664  6.23021   8.86212   \n",
       "Whole blood_GTEX-113IC-0006-SM-5NQ9C    0.0  ...  62.51887  9.47645  25.05536   \n",
       "Whole blood_GTEX-11DXW-0006-SM-5NQ7Y    0.0  ...  43.25663  3.04311  13.00231   \n",
       "\n",
       "                                      CDH1   SLC12A6     PTBP3  KCNE2  \\\n",
       "Whole blood_GTEX-111YS-0006-SM-5NQBE   0.0  22.39149  12.44287    0.0   \n",
       "Whole blood_GTEX-1122O-0005-SM-5O99J   0.0  37.87207  28.15679    0.0   \n",
       "Whole blood_GTEX-1128S-0005-SM-5P9HI   0.0  15.24723  14.77119    0.0   \n",
       "Whole blood_GTEX-113IC-0006-SM-5NQ9C   0.0  18.20504  19.98922    0.0   \n",
       "Whole blood_GTEX-11DXW-0006-SM-5NQ7Y   0.0   8.70691  14.95775    0.0   \n",
       "\n",
       "                                         DGCR2  CASP8AP2     SCO2  \n",
       "Whole blood_GTEX-111YS-0006-SM-5NQBE  39.58995   0.00000  1.13295  \n",
       "Whole blood_GTEX-1122O-0005-SM-5O99J  50.57634   0.00000  1.13876  \n",
       "Whole blood_GTEX-1128S-0005-SM-5P9HI  18.75518   0.00000  1.39118  \n",
       "Whole blood_GTEX-113IC-0006-SM-5NQ9C  36.60574   4.42993  8.31288  \n",
       "Whole blood_GTEX-11DXW-0006-SM-5NQ7Y  17.32560   0.00000  2.09525  \n",
       "\n",
       "[5 rows x 24403 columns]"
      ],
      "text/html": [
       "<div>\n",
       "<style scoped>\n",
       "    .dataframe tbody tr th:only-of-type {\n",
       "        vertical-align: middle;\n",
       "    }\n",
       "\n",
       "    .dataframe tbody tr th {\n",
       "        vertical-align: top;\n",
       "    }\n",
       "\n",
       "    .dataframe thead th {\n",
       "        text-align: right;\n",
       "    }\n",
       "</style>\n",
       "<table border=\"1\" class=\"dataframe\">\n",
       "  <thead>\n",
       "    <tr style=\"text-align: right;\">\n",
       "      <th></th>\n",
       "      <th>A1BG</th>\n",
       "      <th>NAT2</th>\n",
       "      <th>ADA</th>\n",
       "      <th>CDH2</th>\n",
       "      <th>AKT3</th>\n",
       "      <th>GAGE12F</th>\n",
       "      <th>POU5F1P5</th>\n",
       "      <th>ZBTB11-AS1</th>\n",
       "      <th>MED6</th>\n",
       "      <th>NR2E3</th>\n",
       "      <th>...</th>\n",
       "      <th>HNRNPDL</th>\n",
       "      <th>DMTF1</th>\n",
       "      <th>PPP4R1</th>\n",
       "      <th>CDH1</th>\n",
       "      <th>SLC12A6</th>\n",
       "      <th>PTBP3</th>\n",
       "      <th>KCNE2</th>\n",
       "      <th>DGCR2</th>\n",
       "      <th>CASP8AP2</th>\n",
       "      <th>SCO2</th>\n",
       "    </tr>\n",
       "  </thead>\n",
       "  <tbody>\n",
       "    <tr>\n",
       "      <th>Whole blood_GTEX-111YS-0006-SM-5NQBE</th>\n",
       "      <td>0.00000</td>\n",
       "      <td>0.0</td>\n",
       "      <td>3.88814</td>\n",
       "      <td>0.0</td>\n",
       "      <td>0.00000</td>\n",
       "      <td>0.0</td>\n",
       "      <td>0.0</td>\n",
       "      <td>0.0</td>\n",
       "      <td>4.92819</td>\n",
       "      <td>0.0</td>\n",
       "      <td>...</td>\n",
       "      <td>23.24507</td>\n",
       "      <td>2.13643</td>\n",
       "      <td>34.75098</td>\n",
       "      <td>0.0</td>\n",
       "      <td>22.39149</td>\n",
       "      <td>12.44287</td>\n",
       "      <td>0.0</td>\n",
       "      <td>39.58995</td>\n",
       "      <td>0.00000</td>\n",
       "      <td>1.13295</td>\n",
       "    </tr>\n",
       "    <tr>\n",
       "      <th>Whole blood_GTEX-1122O-0005-SM-5O99J</th>\n",
       "      <td>0.00000</td>\n",
       "      <td>0.0</td>\n",
       "      <td>1.65673</td>\n",
       "      <td>0.0</td>\n",
       "      <td>0.00000</td>\n",
       "      <td>0.0</td>\n",
       "      <td>0.0</td>\n",
       "      <td>0.0</td>\n",
       "      <td>3.89626</td>\n",
       "      <td>0.0</td>\n",
       "      <td>...</td>\n",
       "      <td>21.88482</td>\n",
       "      <td>3.95634</td>\n",
       "      <td>71.26230</td>\n",
       "      <td>0.0</td>\n",
       "      <td>37.87207</td>\n",
       "      <td>28.15679</td>\n",
       "      <td>0.0</td>\n",
       "      <td>50.57634</td>\n",
       "      <td>0.00000</td>\n",
       "      <td>1.13876</td>\n",
       "    </tr>\n",
       "    <tr>\n",
       "      <th>Whole blood_GTEX-1128S-0005-SM-5P9HI</th>\n",
       "      <td>0.00000</td>\n",
       "      <td>0.0</td>\n",
       "      <td>16.21627</td>\n",
       "      <td>0.0</td>\n",
       "      <td>3.32589</td>\n",
       "      <td>0.0</td>\n",
       "      <td>0.0</td>\n",
       "      <td>0.0</td>\n",
       "      <td>2.62014</td>\n",
       "      <td>0.0</td>\n",
       "      <td>...</td>\n",
       "      <td>54.36664</td>\n",
       "      <td>6.23021</td>\n",
       "      <td>8.86212</td>\n",
       "      <td>0.0</td>\n",
       "      <td>15.24723</td>\n",
       "      <td>14.77119</td>\n",
       "      <td>0.0</td>\n",
       "      <td>18.75518</td>\n",
       "      <td>0.00000</td>\n",
       "      <td>1.39118</td>\n",
       "    </tr>\n",
       "    <tr>\n",
       "      <th>Whole blood_GTEX-113IC-0006-SM-5NQ9C</th>\n",
       "      <td>0.00000</td>\n",
       "      <td>0.0</td>\n",
       "      <td>30.64359</td>\n",
       "      <td>0.0</td>\n",
       "      <td>2.97533</td>\n",
       "      <td>0.0</td>\n",
       "      <td>0.0</td>\n",
       "      <td>0.0</td>\n",
       "      <td>8.18075</td>\n",
       "      <td>0.0</td>\n",
       "      <td>...</td>\n",
       "      <td>62.51887</td>\n",
       "      <td>9.47645</td>\n",
       "      <td>25.05536</td>\n",
       "      <td>0.0</td>\n",
       "      <td>18.20504</td>\n",
       "      <td>19.98922</td>\n",
       "      <td>0.0</td>\n",
       "      <td>36.60574</td>\n",
       "      <td>4.42993</td>\n",
       "      <td>8.31288</td>\n",
       "    </tr>\n",
       "    <tr>\n",
       "      <th>Whole blood_GTEX-11DXW-0006-SM-5NQ7Y</th>\n",
       "      <td>1.53009</td>\n",
       "      <td>0.0</td>\n",
       "      <td>20.60155</td>\n",
       "      <td>0.0</td>\n",
       "      <td>1.65279</td>\n",
       "      <td>0.0</td>\n",
       "      <td>0.0</td>\n",
       "      <td>0.0</td>\n",
       "      <td>4.07246</td>\n",
       "      <td>0.0</td>\n",
       "      <td>...</td>\n",
       "      <td>43.25663</td>\n",
       "      <td>3.04311</td>\n",
       "      <td>13.00231</td>\n",
       "      <td>0.0</td>\n",
       "      <td>8.70691</td>\n",
       "      <td>14.95775</td>\n",
       "      <td>0.0</td>\n",
       "      <td>17.32560</td>\n",
       "      <td>0.00000</td>\n",
       "      <td>2.09525</td>\n",
       "    </tr>\n",
       "  </tbody>\n",
       "</table>\n",
       "<p>5 rows × 24403 columns</p>\n",
       "</div>"
      ]
     },
     "execution_count": 8,
     "metadata": {},
     "output_type": "execute_result"
    }
   ],
   "execution_count": 8
  },
  {
   "metadata": {
    "ExecuteTime": {
     "end_time": "2024-10-24T16:48:46.213741Z",
     "start_time": "2024-10-24T16:48:46.199741Z"
    }
   },
   "cell_type": "code",
   "source": [
    "# Check for consistency in gene names across datasets\n",
    "print(\"Number of genes in RA Train:\", len(ra_train.columns))\n",
    "print(\"Number of genes in SLE Train:\", len(sle_train.columns))\n",
    "print(\"Number of genes in Healthy Train:\", len(healthy_train.columns))"
   ],
   "id": "169df414964455c2",
   "outputs": [
    {
     "name": "stdout",
     "output_type": "stream",
     "text": [
      "Number of genes in RA Train: 37691\n",
      "Number of genes in SLE Train: 37691\n",
      "Number of genes in Healthy Train: 24403\n"
     ]
    }
   ],
   "execution_count": 9
  },
  {
   "metadata": {
    "ExecuteTime": {
     "end_time": "2024-10-24T16:48:46.245741Z",
     "start_time": "2024-10-24T16:48:46.214745Z"
    }
   },
   "cell_type": "code",
   "source": [
    "# Display a list of gene names in each dataset (first 10 genes)\n",
    "print(\"First 10 genes in RA Train:\", list(ra_train.columns[:10]))\n",
    "print(\"\\nFirst 10 genes in SLE Train:\", list(sle_train.columns[:10]))\n",
    "print(\"\\nFirst 10 genes in Healthy Train:\", list(healthy_train.columns[:10]))"
   ],
   "id": "10e87e6bc1ef2ea4",
   "outputs": [
    {
     "name": "stdout",
     "output_type": "stream",
     "text": [
      "First 10 genes in RA Train: ['DDX11L1', 'WASH7P', 'MIR6859-1', 'MIR1302-2HG', 'MIR1302-2', 'FAM138A', 'OR4F5', 'WASH9P', 'LOC729737', 'DDX11L17']\n",
      "\n",
      "First 10 genes in SLE Train: ['DDX11L1', 'WASH7P', 'MIR6859-1', 'MIR1302-2HG', 'MIR1302-2', 'FAM138A', 'OR4F5', 'WASH9P', 'LOC729737', 'DDX11L17']\n",
      "\n",
      "First 10 genes in Healthy Train: ['A1BG', 'NAT2', 'ADA', 'CDH2', 'AKT3', 'GAGE12F', 'POU5F1P5', 'ZBTB11-AS1', 'MED6', 'NR2E3']\n"
     ]
    }
   ],
   "execution_count": 10
  },
  {
   "metadata": {},
   "cell_type": "markdown",
   "source": [
    "### Observations\n",
    "\n",
    "- **Number of Genes**:\n",
    "  - *RA Train*: Approximately 37,691 genes.\n",
    "  - *SLE Train*: Approximately 37,691 genes.\n",
    "  - *Healthy Train*: Approximately 24,403 genes.\n",
    "\n",
    "- **Gene Names**:\n",
    "  - The first 10 gene names differ between the RA/SLE datasets and the Healthy dataset.\n",
    "\n",
    "This indicates that the gene names are **not consistent across datasets**, and we need to align the datasets by finding the intersection of common genes shared among all datasets."
   ],
   "id": "988d1cd5e5bc344b"
  },
  {
   "metadata": {},
   "cell_type": "markdown",
   "source": [
    "## 2. Data Alignment and Preprocessing\n",
    "\n",
    "### 2.1. Align Features Across Datasets\n",
    "\n",
    "Since the gene names are not consistent across datasets, as well as the number of genes are different for the healthy dataset, we need to align the features by finding the intersection of common genes shared among all datasets. This will ensure that we have the same set of features for all samples and that each sample is represented in the same feature space."
   ],
   "id": "3e0b6ee9cf4c67c4"
  },
  {
   "metadata": {
    "ExecuteTime": {
     "end_time": "2024-10-24T16:50:58.194767Z",
     "start_time": "2024-10-24T16:50:58.153564Z"
    }
   },
   "cell_type": "code",
   "source": [
    "# Extract gene lists from each dataset\n",
    "ra_genes = set(ra_train.columns)\n",
    "sle_genes = set(sle_train.columns)\n",
    "healthy_genes = set(healthy_train.columns)\n",
    "\n",
    "# Find the intersection of genes present in all datasets\n",
    "common_genes = list(ra_genes & sle_genes & healthy_genes)\n",
    "\n",
    "print(\"Number of common genes across all datasets:\", len(common_genes))"
   ],
   "id": "99c487ba73c64de9",
   "outputs": [
    {
     "name": "stdout",
     "output_type": "stream",
     "text": [
      "Number of common genes across all datasets: 24403\n"
     ]
    }
   ],
   "execution_count": 11
  },
  {
   "metadata": {
    "ExecuteTime": {
     "end_time": "2024-10-24T16:51:03.380552Z",
     "start_time": "2024-10-24T16:51:03.034551Z"
    }
   },
   "cell_type": "code",
   "source": [
    "# Subset each dataset to keep only the common genes\n",
    "ra_train = ra_train[common_genes]\n",
    "ra_test = ra_test[common_genes]\n",
    "sle_train = sle_train[common_genes]\n",
    "sle_test = sle_test[common_genes]\n",
    "healthy_train = healthy_train[common_genes]\n",
    "healthy_test = healthy_test[common_genes]"
   ],
   "id": "f6b133b0f0437352",
   "outputs": [],
   "execution_count": 12
  },
  {
   "metadata": {
    "ExecuteTime": {
     "end_time": "2024-10-24T16:51:06.621087Z",
     "start_time": "2024-10-24T16:51:06.611040Z"
    }
   },
   "cell_type": "code",
   "source": [
    "# Verify that all datasets now have the same number of genes\n",
    "print(\"RA Train Shape after alignment:\", ra_train.shape)\n",
    "print(\"RA Test Shape after alignment:\", ra_test.shape)\n",
    "print(\"SLE Train Shape after alignment:\", sle_train.shape)\n",
    "print(\"SLE Test Shape after alignment:\", sle_test.shape)\n",
    "print(\"Healthy Train Shape after alignment:\", healthy_train.shape)\n",
    "print(\"Healthy Test Shape after alignment:\", healthy_test.shape)"
   ],
   "id": "a8ecefb058f90473",
   "outputs": [
    {
     "name": "stdout",
     "output_type": "stream",
     "text": [
      "RA Train Shape after alignment: (1587, 24403)\n",
      "RA Test Shape after alignment: (330, 24403)\n",
      "SLE Train Shape after alignment: (1332, 24403)\n",
      "SLE Test Shape after alignment: (465, 24403)\n",
      "Healthy Train Shape after alignment: (302, 24403)\n",
      "Healthy Test Shape after alignment: (100, 24403)\n"
     ]
    }
   ],
   "execution_count": 13
  },
  {
   "metadata": {
    "ExecuteTime": {
     "end_time": "2024-10-24T16:51:10.876236Z",
     "start_time": "2024-10-24T16:51:10.866199Z"
    }
   },
   "cell_type": "code",
   "source": [
    "# Display a list of gene names in each dataset (first 10 genes)\n",
    "print(\"First 10 genes in RA Train after alignment:\", list(ra_train.columns[:10]))\n",
    "print(\"\\nFirst 10 genes in SLE Train after alignment:\", list(sle_train.columns[:10]))\n",
    "print(\"\\nFirst 10 genes in Healthy Train after alignment:\", list(healthy_train.columns[:10]))"
   ],
   "id": "5b8d20bdf4c6b6d8",
   "outputs": [
    {
     "name": "stdout",
     "output_type": "stream",
     "text": [
      "First 10 genes in RA Train after alignment: ['RABL2B', 'MRPL2', 'ALDOA', 'MAGEA3', 'TMPRSS2', 'SH3PXD2B', 'OPN1MW2', 'FAR2', 'LINC00544', 'LINC01134']\n",
      "\n",
      "First 10 genes in SLE Train after alignment: ['RABL2B', 'MRPL2', 'ALDOA', 'MAGEA3', 'TMPRSS2', 'SH3PXD2B', 'OPN1MW2', 'FAR2', 'LINC00544', 'LINC01134']\n",
      "\n",
      "First 10 genes in Healthy Train after alignment: ['RABL2B', 'MRPL2', 'ALDOA', 'MAGEA3', 'TMPRSS2', 'SH3PXD2B', 'OPN1MW2', 'FAR2', 'LINC00544', 'LINC01134']\n"
     ]
    }
   ],
   "execution_count": 14
  },
  {
   "metadata": {},
   "cell_type": "markdown",
   "source": [
    "### 2.2. Exploratory Data Analysis (EDA)\n",
    "\n",
    "We'll perform a brief EDA to understand the characteristics of the data."
   ],
   "id": "6efca1795234475d"
  },
  {
   "metadata": {},
   "cell_type": "markdown",
   "source": [
    "#### 2.2.1. Check Data Sparsity\n",
    "We want to determine how sparse our data is, i.e., the proportion of zero values."
   ],
   "id": "20b1c5d53c384d5a"
  },
  {
   "metadata": {
    "ExecuteTime": {
     "end_time": "2024-10-24T16:51:52.904782Z",
     "start_time": "2024-10-24T16:51:52.359783Z"
    }
   },
   "cell_type": "code",
   "source": [
    "# Combine all training data for EDA\n",
    "combined_train = pd.concat([ra_train, sle_train, healthy_train], ignore_index=True)\n",
    "\n",
    "# Print the combined training data shape\n",
    "print(\"Combined Training Data Shape:\", combined_train.shape)\n",
    "\n",
    "# Calculate sparsity (percentage of zero values)\n",
    "sparsity = (combined_train == 0).sum().sum() / (combined_train.shape[0] * combined_train.shape[1]) * 100\n",
    "print(f\"\\nData Sparsity: {sparsity:.2f}% zeros\")"
   ],
   "id": "ba6f28d426284357",
   "outputs": [
    {
     "name": "stdout",
     "output_type": "stream",
     "text": [
      "Combined Training Data Shape: (3221, 24403)\n",
      "\n",
      "Data Sparsity: 57.68% zeros\n"
     ]
    }
   ],
   "execution_count": 15
  },
  {
   "metadata": {},
   "cell_type": "markdown",
   "source": [
    "#### 2.2.2. Visualize Gene Expression Distributions\n",
    "We'll visualize the distribution of gene expression values for a random sample of genes to understand the overall data distribution. This means we'll plot histograms for a few randomly selected genes to see how the expression values are distributed, y x-axis represents the gene expression values, and the y-axis represents the frequency of those values."
   ],
   "id": "914a73faa2171761"
  },
  {
   "metadata": {
    "ExecuteTime": {
     "end_time": "2024-10-24T16:52:04.061704Z",
     "start_time": "2024-10-24T16:52:02.743639Z"
    }
   },
   "cell_type": "code",
   "source": [
    "# Randomly select 5 genes to plot\n",
    "np.random.seed(42)\n",
    "sample_genes = np.random.choice(common_genes, size=5, replace=False)\n",
    "\n",
    "# Plot histograms of the selected genes\n",
    "combined_train[sample_genes].hist(figsize=(15, 10), bins=50)\n",
    "plt.suptitle('Distribution of Gene Expression Values for Sample Genes', y=1.02)\n",
    "plt.tight_layout()\n",
    "plt.show()"
   ],
   "id": "d4c9cec90e3aa9c3",
   "outputs": [
    {
     "data": {
      "text/plain": [
       "<Figure size 1500x1000 with 6 Axes>"
      ],
      "image/png": "[encoded data removed]"
     },
     "metadata": {},
     "output_type": "display_data"
    }
   ],
   "execution_count": 16
  },
  {
   "metadata": {},
   "cell_type": "markdown",
   "source": [
    "#### 2.2.3. Assess Class Distribution\n",
    "We need to check the number of samples in each class to assess for class imbalance."
   ],
   "id": "4345aa920f453d96"
  },
  {
   "metadata": {
    "ExecuteTime": {
     "end_time": "2024-10-24T16:52:14.542313Z",
     "start_time": "2024-10-24T16:52:14.408311Z"
    }
   },
   "cell_type": "code",
   "source": [
    "# Create labels for each dataset\n",
    "ra_labels = pd.Series(1, index=ra_train.index)\n",
    "sle_labels = pd.Series(2, index=sle_train.index)\n",
    "healthy_labels = pd.Series(0, index=healthy_train.index)\n",
    "\n",
    "# Combine labels\n",
    "y_train = pd.concat([ra_labels, sle_labels, healthy_labels])\n",
    "\n",
    "# Count samples in each class\n",
    "class_counts = y_train.value_counts().sort_index()\n",
    "class_counts.index = ['Healthy', 'RA', 'SLE']\n",
    "class_counts.plot(kind='bar')\n",
    "plt.xlabel('Class')\n",
    "plt.ylabel('Number of Samples')\n",
    "plt.title('Class Distribution in Training Data')\n",
    "plt.show()\n",
    "\n",
    "print(\"Number of samples in each class:\")\n",
    "print(class_counts)"
   ],
   "id": "4cc531d306af2fa7",
   "outputs": [
    {
     "data": {
      "text/plain": [
       "<Figure size 640x480 with 1 Axes>"
      ],
      "image/png": "[encoded data removed]"
     },
     "metadata": {},
     "output_type": "display_data"
    },
    {
     "name": "stdout",
     "output_type": "stream",
     "text": [
      "Number of samples in each class:\n",
      "Healthy     302\n",
      "RA         1587\n",
      "SLE        1332\n",
      "Name: count, dtype: int64\n"
     ]
    }
   ],
   "execution_count": 17
  },
  {
   "metadata": {},
   "cell_type": "markdown",
   "source": [
    "### 2.3. Data Transformation\n",
    "\n",
    "#### 2.3.1. Apply Log Transformation\n",
    "\n",
    "Based on our EDA findings, we'll apply a log2(x + 1) transformation to stabilize variance and reduce skewness in the gene expression values."
   ],
   "id": "4551dd270b0201a"
  },
  {
   "metadata": {
    "ExecuteTime": {
     "end_time": "2024-10-24T16:52:38.119019Z",
     "start_time": "2024-10-24T16:52:36.794774Z"
    }
   },
   "cell_type": "code",
   "source": [
    "# Define a function for log transformation\n",
    "def log_transform(df):\n",
    "    df_log = np.log2(df + 1)\n",
    "    return df_log\n",
    "\n",
    "\n",
    "# Apply log transformation to all datasets\n",
    "ra_train = log_transform(ra_train)\n",
    "ra_test = log_transform(ra_test)\n",
    "sle_train = log_transform(sle_train)\n",
    "sle_test = log_transform(sle_test)\n",
    "healthy_train = log_transform(healthy_train)\n",
    "healthy_test = log_transform(healthy_test)"
   ],
   "id": "2b38f7d143191b78",
   "outputs": [],
   "execution_count": 18
  },
  {
   "metadata": {
    "ExecuteTime": {
     "end_time": "2024-10-24T16:52:39.596537Z",
     "start_time": "2024-10-24T16:52:38.121029Z"
    }
   },
   "cell_type": "code",
   "source": [
    "# Visualize the distribution of gene expression values after log transformation\n",
    "combined_train = pd.concat([ra_train, sle_train, healthy_train], ignore_index=True)\n",
    "combined_train[sample_genes].hist(figsize=(15, 10), bins=50)\n",
    "plt.suptitle('Distribution of Log-Transformed Gene Expression Values for Sample Genes', y=1.02)\n",
    "plt.tight_layout()\n",
    "plt.show()"
   ],
   "id": "106fc155bc8389bf",
   "outputs": [
    {
     "data": {
      "text/plain": [
       "<Figure size 1500x1000 with 6 Axes>"
      ],
      "image/png": "[encoded data removed]"
     },
     "metadata": {},
     "output_type": "display_data"
    }
   ],
   "execution_count": 19
  },
  {
   "metadata": {},
   "cell_type": "markdown",
   "source": [
    "#### 2.3.2. Combine Datasets and Assign Labels\n",
    "Now, we'll prepare the data for modeling by assigning labels to each dataset and combining them."
   ],
   "id": "5696c8a338abde72"
  },
  {
   "metadata": {
    "ExecuteTime": {
     "end_time": "2024-10-24T16:52:51.744956Z",
     "start_time": "2024-10-24T16:52:51.022960Z"
    }
   },
   "cell_type": "code",
   "source": [
    "# Assign labels\n",
    "ra_train['label'] = 1\n",
    "ra_test['label'] = 1\n",
    "sle_train['label'] = 2\n",
    "sle_test['label'] = 2\n",
    "healthy_train['label'] = 0\n",
    "healthy_test['label'] = 0\n",
    "\n",
    "# Combine datasets\n",
    "train_data = pd.concat([ra_train, sle_train, healthy_train], ignore_index=True)\n",
    "test_data = pd.concat([ra_test, sle_test, healthy_test], ignore_index=True)\n",
    "\n",
    "# Separate features and labels\n",
    "X_train = train_data.drop('label', axis=1)\n",
    "y_train = train_data['label']\n",
    "X_test = test_data.drop('label', axis=1)\n",
    "y_test = test_data['label']\n",
    "\n",
    "# Display the shapes of the combined datasets\n",
    "print(\"Combined Train Data Shape:\", train_data.shape)\n",
    "print(\"Combined Test Data Shape:\", test_data.shape)"
   ],
   "id": "88ad9a2fb653fa12",
   "outputs": [
    {
     "name": "stdout",
     "output_type": "stream",
     "text": [
      "Combined Train Data Shape: (3221, 24404)\n",
      "Combined Test Data Shape: (895, 24404)\n"
     ]
    }
   ],
   "execution_count": 20
  }
 ],
 "metadata": {
  "kernelspec": {
   "display_name": "Python 3",
   "language": "python",
   "name": "python3"
  },
  "language_info": {
   "codemirror_mode": {
    "name": "ipython",
    "version": 2
   },
   "file_extension": ".py",
   "mimetype": "text/x-python",
   "name": "python",
   "nbconvert_exporter": "python",
   "pygments_lexer": "ipython2",
   "version": "2.7.6"
  }
 },
 "nbformat": 4,
 "nbformat_minor": 5
}
